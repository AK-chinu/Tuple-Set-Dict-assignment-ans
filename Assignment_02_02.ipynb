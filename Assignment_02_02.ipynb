{
 "cells": [
  {
   "cell_type": "markdown",
   "id": "3cfb8387-905f-4672-be5a-be15ebea58db",
   "metadata": {},
   "source": [
    "### Q1. What are the characteristics of the tuples? Is tuple immutable? \n",
    "Ans:-Yes tuple is immutable .\n",
    "1. Tuples have the given characteristics:\n",
    "2. They are indexed\n",
    "3. Tuples are ordered\n",
    "4. These are immutable\n",
    "5. They can contain duplicate items\n",
    "\n"
   ]
  },
  {
   "cell_type": "markdown",
   "id": "b0c2a070-8059-4d64-865d-fab2c2802bbf",
   "metadata": {},
   "source": [
    "## Q2. What are the two tuple methods in python? Give an example of each method. Give a reason why  tuples have only two in-built methods as compared to Lists. \n",
    "Ans:- \n",
    "count()\n",
    "Returns the number of times a specified value occurs in a tuple \n",
    "\n",
    "index()\n",
    "Searches the tuple for a specified value and returns the position of where it was found\n",
    "\n",
    "\n",
    "\n"
   ]
  },
  {
   "cell_type": "code",
   "execution_count": 4,
   "id": "6f4b3e65-957c-4f09-ac52-8ec7681b1b22",
   "metadata": {},
   "outputs": [
    {
     "data": {
      "text/plain": [
       "1"
      ]
     },
     "execution_count": 4,
     "metadata": {},
     "output_type": "execute_result"
    }
   ],
   "source": [
    "t1=('chinu',55,21.21,'miku',True)\n",
    "t1.count('chinu')\n"
   ]
  },
  {
   "cell_type": "code",
   "execution_count": 5,
   "id": "89dbd4cd-1ab6-4ab7-8968-b439a14fea3f",
   "metadata": {},
   "outputs": [
    {
     "data": {
      "text/plain": [
       "0"
      ]
     },
     "execution_count": 5,
     "metadata": {},
     "output_type": "execute_result"
    }
   ],
   "source": [
    "t1.index('chinu')"
   ]
  },
  {
   "cell_type": "markdown",
   "id": "dae4d30b-6a5c-4166-a02d-b39bfbae17c9",
   "metadata": {},
   "source": [
    "**tuples have only two in-built methods as compared to Lists because lists are mutable and tuples are immutable.\n"
   ]
  },
  {
   "cell_type": "markdown",
   "id": "d7247f85-35aa-4ac5-89b0-1fd27a52dc2e",
   "metadata": {},
   "source": [
    "## Q3.  Which collection datatypes in python do not allow duplicate items? Write a code using a set to remove  duplicates from the given list. \n",
    "List = [1, 1, 1, 2, 1, 3, 1, 4, 2, 1, 2, 2, 2, 3, 2, 4, 3, 1, 3, 2, 3, 3, 3, 4, 4, 1, 4, 2, 4, 3, 4, 4] \n"
   ]
  },
  {
   "cell_type": "markdown",
   "id": "b0d4db50-b21e-42e3-9dc4-4729e117d768",
   "metadata": {},
   "source": [
    "Ans :-Sets Sets are a collection that is unordered and unindexed. They are mutable (changeable) but do not allow duplicate values to be held."
   ]
  },
  {
   "cell_type": "code",
   "execution_count": 6,
   "id": "3df58dd7-c6cf-45a2-bffe-335f43bf5ad0",
   "metadata": {},
   "outputs": [],
   "source": [
    "List = [1, 1, 1, 2, 1, 3, 1, 4, 2, 1, 2, 2, 2, 3, 2, 4, 3, 1, 3, 2, 3, 3, 3, 4, 4, 1, 4, 2, 4, 3, 4, 4]\n"
   ]
  },
  {
   "cell_type": "code",
   "execution_count": 8,
   "id": "f5f61235-cc11-40b2-ab97-38fef025d94f",
   "metadata": {},
   "outputs": [
    {
     "data": {
      "text/plain": [
       "{1, 2, 3, 4}"
      ]
     },
     "execution_count": 8,
     "metadata": {},
     "output_type": "execute_result"
    }
   ],
   "source": [
    "set(List)"
   ]
  },
  {
   "cell_type": "markdown",
   "id": "e655348c-0e48-4f15-b8ce-c812935d36f0",
   "metadata": {},
   "source": [
    "## Q4. Explain the difference between the union() and update() methods for a set. Give an example of  each method. "
   ]
  },
  {
   "cell_type": "markdown",
   "id": "b53a4058-c1a8-4018-95ce-61d171dc167c",
   "metadata": {},
   "source": [
    "union Method :\n",
    "This method is used to return the union of a set and the set of elements from one or more iterable like string, list, set. This method takes arbitrary number of iterable objects as argument, which means one or more iterable can be passed. If iterable other than set is passed, it first converts the iterable object to set object and then perform the union operation. It returns a newly created set, which contains all the elements ( distinct ) present in all the iterables.\n",
    "\n",
    "Syntax : < Set Object 1>.union( *iterable object )"
   ]
  },
  {
   "cell_type": "markdown",
   "id": "2b72ff04-7c5c-4e01-94ea-5546e5c9db9b",
   "metadata": {},
   "source": [
    "update Method :\n",
    "This method is used to return the union of a set and the set of elements from one or more iterable like string, list, set. It is very similar to union() method, with difference is that where union() method create and return a new set, containing all the elements ( distinct ) present in all the iterables, update() method updates the set on which this method is called with all the distinct elements present in all the iterables.\n",
    "\n",
    "Syntax : < Set Object >.update( *<iterable object ) "
   ]
  },
  {
   "cell_type": "code",
   "execution_count": 11,
   "id": "27bdd0c2-bafd-4b4c-9632-d5273dc9c2ea",
   "metadata": {},
   "outputs": [],
   "source": [
    "s1={1,2,3,44,3,2,12}\n",
    "s2={1,2,21,32,44.3}"
   ]
  },
  {
   "cell_type": "code",
   "execution_count": 18,
   "id": "7e0551dc-9de6-47a8-818e-378914da3e0c",
   "metadata": {},
   "outputs": [
    {
     "data": {
      "text/plain": [
       "{1, 2, 3, 12, 21, 32, 44, 44.3}"
      ]
     },
     "execution_count": 18,
     "metadata": {},
     "output_type": "execute_result"
    }
   ],
   "source": [
    "s1.union(s2)"
   ]
  },
  {
   "cell_type": "code",
   "execution_count": 20,
   "id": "0ee590c7-bf9c-4d54-a9a5-493efa5bfad9",
   "metadata": {},
   "outputs": [],
   "source": [
    "s1.update(s2)"
   ]
  },
  {
   "cell_type": "code",
   "execution_count": 21,
   "id": "d72d9455-8a0e-4ed0-9bfd-e6bfb8de46bb",
   "metadata": {},
   "outputs": [
    {
     "data": {
      "text/plain": [
       "{1, 2, 3, 12, 21, 32, 44, 44.3}"
      ]
     },
     "execution_count": 21,
     "metadata": {},
     "output_type": "execute_result"
    }
   ],
   "source": [
    "s1"
   ]
  },
  {
   "cell_type": "markdown",
   "id": "d8c8e68a-3f8e-487c-973e-fcf446d75326",
   "metadata": {},
   "source": [
    "## Q5. What is a dictionary? Give an example. Also, state whether a dictionary is ordered or unordered. \n"
   ]
  },
  {
   "cell_type": "markdown",
   "id": "41c90a7a-8aa6-40ca-91f4-40381dccbfd5",
   "metadata": {},
   "source": [
    "Ans:-Dictionary. Dictionaries are used to store data values in key:value pairs. A dictionary is a collection which is ordered*, changeable and do not allow duplicates. As of Python version 3.7, dictionaries are ordered. In Python 3.6 and earlier, dictionaries are unordered."
   ]
  },
  {
   "cell_type": "code",
   "execution_count": 24,
   "id": "0348f558-bc19-4c5d-87ee-4fcd8b5e6ca5",
   "metadata": {},
   "outputs": [],
   "source": [
    "s2 = {\"name\":\"chinmaya Padhi\",\"F_name\":\"Ajaya kumar Padhi\",\"Address\":\"Bdk\"}"
   ]
  },
  {
   "cell_type": "code",
   "execution_count": 26,
   "id": "b085a3de-d2fc-4996-ac39-4bb7f2e3b178",
   "metadata": {},
   "outputs": [
    {
     "data": {
      "text/plain": [
       "dict"
      ]
     },
     "execution_count": 26,
     "metadata": {},
     "output_type": "execute_result"
    }
   ],
   "source": [
    "type(s2)\n"
   ]
  },
  {
   "cell_type": "code",
   "execution_count": 27,
   "id": "f8845598-2d8b-4b1b-ba3f-54022531febc",
   "metadata": {},
   "outputs": [
    {
     "data": {
      "text/plain": [
       "{'name': 'chinmaya Padhi', 'F_name': 'Ajaya kumar Padhi', 'Address': 'Bdk'}"
      ]
     },
     "execution_count": 27,
     "metadata": {},
     "output_type": "execute_result"
    }
   ],
   "source": [
    "s2"
   ]
  },
  {
   "cell_type": "markdown",
   "id": "46c0059d-1812-424d-9341-5a9df9877506",
   "metadata": {},
   "source": [
    "Python dictionaries were unordered but after Python 3.7 version Dictionaries are ordered. It preserves the order of insertion, i.e., while creating a dictionary with key-value pairs, each key-value pair will be inserted in the order it has been defined one after another. But previously, the elements of the dictionary were inserted in alphabetical order."
   ]
  },
  {
   "cell_type": "markdown",
   "id": "34731037-3bfc-4b5c-ace2-141a8f6c1a4f",
   "metadata": {},
   "source": [
    "## Q6. Can we create a nested dictionary? If so, please give an example by creating a simple one-level  nested dictionary. "
   ]
  },
  {
   "cell_type": "markdown",
   "id": "a0558d23-c9bd-455a-96d9-07ab10aaa74b",
   "metadata": {},
   "source": [
    "Yes, we can create a nested dictionary ."
   ]
  },
  {
   "cell_type": "code",
   "execution_count": 28,
   "id": "09884047-2787-4790-8705-5279307abaed",
   "metadata": {},
   "outputs": [],
   "source": [
    "d1={\"name\":{\"1st_name\":\"ajaya\",\"Middle_name\":\"kumar\",\"last_name\":\"padhi\"}}"
   ]
  },
  {
   "cell_type": "code",
   "execution_count": 29,
   "id": "cad9c8f2-39c0-41cf-8086-99c6cbaa3818",
   "metadata": {},
   "outputs": [
    {
     "data": {
      "text/plain": [
       "{'name': {'1st_name': 'ajaya', 'Middle_name': 'kumar', 'last_name': 'padhi'}}"
      ]
     },
     "execution_count": 29,
     "metadata": {},
     "output_type": "execute_result"
    }
   ],
   "source": [
    "d1"
   ]
  },
  {
   "cell_type": "markdown",
   "id": "246ba433-562c-4a0f-9ef8-521a9373a999",
   "metadata": {},
   "source": [
    "## Q7. Using setdefault() method, create key named topics in the given dictionary and also add the value of  the key as this list ['Python', 'Machine Learning’, 'Deep Learning'] \n",
    "dict1 = {'language' : 'Python', 'course': 'Data Science Masters'} \n"
   ]
  },
  {
   "cell_type": "code",
   "execution_count": 30,
   "id": "0693b2ea-a186-459f-ad85-a7f81200d7f4",
   "metadata": {},
   "outputs": [],
   "source": [
    "dict1={}"
   ]
  },
  {
   "cell_type": "code",
   "execution_count": 34,
   "id": "374a6697-b8df-4ec2-af6b-3dc46ffbf4f8",
   "metadata": {},
   "outputs": [
    {
     "data": {
      "text/plain": [
       "['Python', 'Machine Learning', 'Deep Learning']"
      ]
     },
     "execution_count": 34,
     "metadata": {},
     "output_type": "execute_result"
    }
   ],
   "source": [
    "dict1.setdefault(\"topic\",[\"Python\",\"Machine Learning\",\"Deep Learning\"])"
   ]
  },
  {
   "cell_type": "code",
   "execution_count": 36,
   "id": "5acb07c3-31f6-42b0-adc9-739ccf723a80",
   "metadata": {},
   "outputs": [
    {
     "data": {
      "text/plain": [
       "{'topic': ['Python', 'Machine Learning', 'Deep Learning']}"
      ]
     },
     "execution_count": 36,
     "metadata": {},
     "output_type": "execute_result"
    }
   ],
   "source": [
    "dict1"
   ]
  },
  {
   "cell_type": "markdown",
   "id": "4e4234ab-f5c3-438b-8087-07584d8876b9",
   "metadata": {},
   "source": [
    "## Q8. What are the three view objects in dictionaries? Use the three in-built methods in python to display  these three view objects for the given dictionary. \n",
    "dict1 = {'Sport': 'Cricket' , 'Teams': ['India', 'Australia', 'England', 'South Africa', 'Sri Lanka', 'New Zealand']} \n"
   ]
  },
  {
   "cell_type": "markdown",
   "id": "480536e4-689d-4ee8-920f-82d42166937b",
   "metadata": {},
   "source": [
    "Ans:-The main view objects of dictionary in python are keys, values and items"
   ]
  },
  {
   "cell_type": "code",
   "execution_count": 38,
   "id": "246c84c0-c20d-42d3-87e3-75711d19cdcc",
   "metadata": {},
   "outputs": [],
   "source": [
    "dict = {'Sport': 'Cricket' , 'Teams': ['India', 'Australia', 'England', 'South Africa', 'Sri Lanka', 'New Zealand']}"
   ]
  },
  {
   "cell_type": "code",
   "execution_count": 40,
   "id": "5d4d4dad-28ac-4d4f-a7bb-45746af6fafe",
   "metadata": {},
   "outputs": [
    {
     "data": {
      "text/plain": [
       "dict_items([('Sport', 'Cricket'), ('Teams', ['India', 'Australia', 'England', 'South Africa', 'Sri Lanka', 'New Zealand'])])"
      ]
     },
     "execution_count": 40,
     "metadata": {},
     "output_type": "execute_result"
    }
   ],
   "source": [
    "dict.items()"
   ]
  },
  {
   "cell_type": "code",
   "execution_count": 41,
   "id": "b224c5dd-3bfa-42ed-abeb-0f3a323d12e5",
   "metadata": {},
   "outputs": [
    {
     "data": {
      "text/plain": [
       "dict_keys(['Sport', 'Teams'])"
      ]
     },
     "execution_count": 41,
     "metadata": {},
     "output_type": "execute_result"
    }
   ],
   "source": [
    "dict.keys()"
   ]
  },
  {
   "cell_type": "code",
   "execution_count": 42,
   "id": "357989d5-275f-48b5-82de-4610c257ce58",
   "metadata": {},
   "outputs": [
    {
     "data": {
      "text/plain": [
       "dict_values(['Cricket', ['India', 'Australia', 'England', 'South Africa', 'Sri Lanka', 'New Zealand']])"
      ]
     },
     "execution_count": 42,
     "metadata": {},
     "output_type": "execute_result"
    }
   ],
   "source": [
    "dict.values()"
   ]
  },
  {
   "cell_type": "code",
   "execution_count": null,
   "id": "c7a82101-7f15-4510-90a7-830831a31116",
   "metadata": {},
   "outputs": [],
   "source": []
  }
 ],
 "metadata": {
  "kernelspec": {
   "display_name": "Python 3 (ipykernel)",
   "language": "python",
   "name": "python3"
  },
  "language_info": {
   "codemirror_mode": {
    "name": "ipython",
    "version": 3
   },
   "file_extension": ".py",
   "mimetype": "text/x-python",
   "name": "python",
   "nbconvert_exporter": "python",
   "pygments_lexer": "ipython3",
   "version": "3.10.8"
  }
 },
 "nbformat": 4,
 "nbformat_minor": 5
}
